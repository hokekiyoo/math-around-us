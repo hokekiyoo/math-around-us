{
 "cells": [
  {
   "cell_type": "markdown",
   "metadata": {},
   "source": [
    "## 二分法"
   ]
  },
  {
   "cell_type": "code",
   "execution_count": 1,
   "metadata": {},
   "outputs": [
    {
     "name": "stdout",
     "output_type": "stream",
     "text": [
      "iteration:  10\tsqrt2:1.4150390625\n",
      "iteration:  20\tsqrt2:1.4142141342163086\n",
      "iteration: 100\tsqrt2:1.414213562373095\n"
     ]
    }
   ],
   "source": [
    "def f(x):\n",
    "    return x**2-2\n",
    "def bisection(iteration):\n",
    "    # 初期値. 1<√2<2 は自明なのでそこから始める\n",
    "    a = 1.0\n",
    "    b = 2.0\n",
    "    for i in range(iteration):\n",
    "        c = (a+b)/2.0 # 中点を出す\n",
    "        if f(a)*f(c) < 0:\n",
    "            b = c\n",
    "        if f(b)*f(c) < 0:\n",
    "            a = c\n",
    "    return c\n",
    "print(\"iteration:{:4d}\\tsqrt2:{}\".format(10, bisection(10)))\n",
    "print(\"iteration:{:4d}\\tsqrt2:{}\".format(20, bisection(20)))\n",
    "print(\"iteration:{:4d}\\tsqrt2:{}\".format(100, bisection(50)))"
   ]
  },
  {
   "cell_type": "markdown",
   "metadata": {},
   "source": [
    "## Newton法"
   ]
  },
  {
   "cell_type": "code",
   "execution_count": 2,
   "metadata": {},
   "outputs": [
    {
     "name": "stdout",
     "output_type": "stream",
     "text": [
      "iteration:1 sqrt2:1.5795487524060154\n",
      "iteration:5 sqrt2:1.4142135623730951\n",
      "iteration:10 sqrt2:1.4142135623730951\n"
     ]
    }
   ],
   "source": [
    "def f(x):\n",
    "    return x**2-2\n",
    "\n",
    "def f_diff(x):\n",
    "    return 2*x\n",
    "\n",
    "def newton(iteration):\n",
    "    a = 1000 #初期値\n",
    "    for i in range(iteration):\n",
    "        a -= f(a)/f_diff(a)\n",
    "    return a\n",
    "print(\"iteration:{} sqrt2:{}\".format(1, newton(10)))\n",
    "print(\"iteration:{} sqrt2:{}\".format(5, newton(20)))\n",
    "print(\"iteration:{} sqrt2:{}\".format(10, newton(100)))"
   ]
  },
  {
   "cell_type": "markdown",
   "metadata": {},
   "source": [
    "## 開平法"
   ]
  },
  {
   "cell_type": "code",
   "execution_count": 3,
   "metadata": {},
   "outputs": [
    {
     "name": "stdout",
     "output_type": "stream",
     "text": [
      "1.4\n",
      "1.41\n",
      "1.414\n",
      "1.4142\n",
      "1.41421\n",
      "1.414213\n",
      "1.4142135\n",
      "1.41421356\n",
      "1.414213562\n",
      "1.4142135623\n"
     ]
    },
    {
     "data": {
      "text/plain": [
       "1.4142135623"
      ]
     },
     "execution_count": 3,
     "metadata": {},
     "output_type": "execute_result"
    }
   ],
   "source": [
    "def solve_b(a,e):\n",
    "    for b in range(10):\n",
    "        if (a+b)*b > e:\n",
    "            return b-1\n",
    "    return 9\n",
    "\n",
    "def kaihei_2(iteration):\n",
    "    # 初期値だけ\n",
    "    a = 1\n",
    "    b = 1\n",
    "    sqrt2 = 1\n",
    "    c = a*b\n",
    "    e = (2-c)*100\n",
    "    for i in range(iteration):\n",
    "        a = (a + b) * 10\n",
    "        b = solve_b(a,e)\n",
    "        a += b\n",
    "        c = a * b\n",
    "        e = (e - c) * 100\n",
    "        sqrt2 += b*0.1**(i+1)\n",
    "        print(sqrt2)\n",
    "    return sqrt2\n",
    "kaihei_2(10)"
   ]
  },
  {
   "cell_type": "markdown",
   "metadata": {},
   "source": [
    "## 相加相乗平均の大小関係"
   ]
  },
  {
   "cell_type": "code",
   "execution_count": 4,
   "metadata": {},
   "outputs": [
    {
     "name": "stdout",
     "output_type": "stream",
     "text": [
      "iteration:  1\tsqrt2:1.5795487524060152\n",
      "iteration:  5\tsqrt2:1.414213562373095\n",
      "iteration: 10\tsqrt2:1.414213562373095\n"
     ]
    }
   ],
   "source": [
    "def sokasojo(iteration):\n",
    "    # 初期値a. a>0ならなんでもOK\n",
    "    a = 1000\n",
    "    for i in range(iteration):\n",
    "        b = 2/a #a*b=2となる様にbを選ぶ\n",
    "        a = (a+b)/2\n",
    "    return a\n",
    "print(\"iteration:{:3d}\\tsqrt2:{}\".format(1, sokasojo(10)))\n",
    "print(\"iteration:{:3d}\\tsqrt2:{}\".format(5, sokasojo(20)))\n",
    "print(\"iteration:{:3d}\\tsqrt2:{}\".format(10, sokasojo(100)))"
   ]
  },
  {
   "cell_type": "markdown",
   "metadata": {},
   "source": [
    "## 連分数"
   ]
  },
  {
   "cell_type": "code",
   "execution_count": 5,
   "metadata": {},
   "outputs": [
    {
     "name": "stdout",
     "output_type": "stream",
     "text": [
      "iteration:1 sqrt2:1.4142135731001355\n",
      "iteration:5 sqrt2:1.4142135623730954\n",
      "iteration:10 sqrt2:1.4142135623730951\n"
     ]
    }
   ],
   "source": [
    "def renbunsu(iteration):\n",
    "    a = 1 #初期値\n",
    "    for i in range(iteration):\n",
    "        a = (2+1/a)\n",
    "    return 1+1/a    \n",
    "print(\"iteration:{} sqrt2:{}\".format(1, renbunsu(10)))\n",
    "print(\"iteration:{} sqrt2:{}\".format(5, renbunsu(20)))\n",
    "print(\"iteration:{} sqrt2:{}\".format(10, renbunsu(100)))"
   ]
  },
  {
   "cell_type": "code",
   "execution_count": null,
   "metadata": {},
   "outputs": [],
   "source": []
  }
 ],
 "metadata": {
  "kernelspec": {
   "display_name": "Python 3",
   "language": "python",
   "name": "python3"
  },
  "language_info": {
   "codemirror_mode": {
    "name": "ipython",
    "version": 3
   },
   "file_extension": ".py",
   "mimetype": "text/x-python",
   "name": "python",
   "nbconvert_exporter": "python",
   "pygments_lexer": "ipython3",
   "version": "3.6.3"
  }
 },
 "nbformat": 4,
 "nbformat_minor": 2
}
