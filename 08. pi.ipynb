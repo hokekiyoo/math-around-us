{
 "cells": [
  {
   "cell_type": "markdown",
   "metadata": {},
   "source": [
    "# $\\pi$について"
   ]
  },
  {
   "cell_type": "code",
   "execution_count": 1,
   "metadata": {},
   "outputs": [],
   "source": [
    "import numpy as np\n",
    "from datetime import datetime as dt"
   ]
  },
  {
   "cell_type": "markdown",
   "metadata": {},
   "source": [
    "## モンテカルロ法\n",
    "単純、収束は遅い"
   ]
  },
  {
   "cell_type": "code",
   "execution_count": 2,
   "metadata": {},
   "outputs": [
    {
     "name": "stdout",
     "output_type": "stream",
     "text": [
      "N:         1\tPi:4.00000\tTime:0.000\n",
      "N:        10\tPi:2.40000\tTime:0.000\n",
      "N:       100\tPi:3.24000\tTime:0.000\n",
      "N:      1000\tPi:3.20000\tTime:0.002\n",
      "N:     10000\tPi:3.12480\tTime:0.017\n",
      "N:    100000\tPi:3.13960\tTime:0.156\n",
      "N:   1000000\tPi:3.14227\tTime:1.577\n",
      "N:  10000000\tPi:3.14129\tTime:16.113\n"
     ]
    }
   ],
   "source": [
    "for i in range(8):\n",
    "    X = np.random.random((10**i,2))\n",
    "    count = 0\n",
    "    start = dt.now()\n",
    "    for (x,y) in X:\n",
    "        N  = x**2+y**2\n",
    "        if N < 1:\n",
    "            count += 1\n",
    "    delta = dt.now() - start\n",
    "    print(\"N:{:10d}\\tPi:{:.5f}\\tTime:{:.3f}\".format(10**i,4*count/10**i,delta.total_seconds())) #pi/4なので4倍\n",
    "            "
   ]
  },
  {
   "cell_type": "markdown",
   "metadata": {},
   "source": [
    "## ガウス=ルジャンドルアルゴリズム\n",
    "収束が早い、計算時間も短い"
   ]
  },
  {
   "cell_type": "code",
   "execution_count": 3,
   "metadata": {},
   "outputs": [
    {
     "name": "stdout",
     "output_type": "stream",
     "text": [
      "0 : 2.9142135624\n",
      "1 : 3.140579250522169\n",
      "2 : 3.141592646213543\n",
      "3 : 3.141592653589794\n",
      "4 : 3.141592653589794\n",
      "5 : 3.141592653589794\n"
     ]
    }
   ],
   "source": [
    "# update algorithm\n",
    "def update(a, b, t, p):\n",
    "    new_a = (a+b)/2.0\n",
    "    new_b = np.sqrt(a*b)\n",
    "    new_t = t-p*(a-new_a)**2\n",
    "    new_p = 2*p\n",
    "    return new_a,new_b,new_t,new_p\n",
    "\n",
    "# initialize\n",
    "a = 1.0\n",
    "b = 1/np.sqrt(2)\n",
    "t = 0.25\n",
    "p = 1.0\n",
    "print(\"0 : {0:.10f}\".format((a+b)**2/(4*t)))\n",
    "\n",
    "# run\n",
    "for i in range(5):\n",
    "    a,b,t,p = update(a,b,t,p)    \n",
    "    print(\"{0} : {1:.15f}\".format(i+1,(a+b)**2/(4*t)))"
   ]
  },
  {
   "cell_type": "markdown",
   "metadata": {},
   "source": [
    "## フーリエ級数"
   ]
  },
  {
   "cell_type": "code",
   "execution_count": 4,
   "metadata": {},
   "outputs": [
    {
     "name": "stdout",
     "output_type": "stream",
     "text": [
      "N:         1\tPi:2.44948974\tTime:0.0\n",
      "N:        10\tPi:3.04936164\tTime:0.0\n",
      "N:       100\tPi:3.13207653\tTime:0.0\n",
      "N:      1000\tPi:3.14063806\tTime:0.001997\n",
      "N:     10000\tPi:3.14149716\tTime:0.007975\n",
      "N:    100000\tPi:3.14158310\tTime:0.036901\n",
      "N:   1000000\tPi:3.14159170\tTime:0.387978\n",
      "N:  10000000\tPi:3.14159256\tTime:3.81986\n"
     ]
    }
   ],
   "source": [
    "def fourier(N):\n",
    "    Ns = np.array([1/i**2 for i in range(1,N+1)])\n",
    "    return Ns.sum()\n",
    "for i in range(8):\n",
    "    start = dt.now()\n",
    "    pi = np.sqrt(6*fourier(10**i))\n",
    "    delta = dt.now()-start\n",
    "    print(\"N:{:10d}\\tPi:{:.8f}\\tTime:{}\".format(10**i,pi,delta.total_seconds()))"
   ]
  },
  {
   "cell_type": "markdown",
   "metadata": {},
   "source": [
    "### ラマヌジャン式"
   ]
  },
  {
   "cell_type": "code",
   "execution_count": 5,
   "metadata": {},
   "outputs": [
    {
     "name": "stdout",
     "output_type": "stream",
     "text": [
      "N:0\tPi:3.14158504007123751123\tTime:0.0\n",
      "N:1\tPi:3.14159265359762196468\tTime:0.0\n",
      "N:2\tPi:3.14159265358979356009\tTime:0.0\n"
     ]
    }
   ],
   "source": [
    "import math\n",
    "i = 0\n",
    "def Ramanujan(i):\n",
    "    numer = (-1)**(i)*math.factorial(4*i)*(1123+21460*i)\n",
    "    denom = 882**(2*i+1)*(4**i*math.factorial(i))**4\n",
    "    return(numer/denom)\n",
    "\n",
    "for i in range(3):\n",
    "    start = dt.now()\n",
    "    R = np.array([Ramanujan(i) for i in range(i+1)])\n",
    "    pi = 4/R.sum()\n",
    "    delta = dt.now()-start\n",
    "    print(\"N:{:d}\\tPi:{:.20f}\\tTime:{}\".format(i,pi,delta.total_seconds()))"
   ]
  },
  {
   "cell_type": "code",
   "execution_count": null,
   "metadata": {},
   "outputs": [],
   "source": []
  }
 ],
 "metadata": {
  "kernelspec": {
   "display_name": "Python 3",
   "language": "python",
   "name": "python3"
  },
  "language_info": {
   "codemirror_mode": {
    "name": "ipython",
    "version": 3
   },
   "file_extension": ".py",
   "mimetype": "text/x-python",
   "name": "python",
   "nbconvert_exporter": "python",
   "pygments_lexer": "ipython3",
   "version": "3.6.3"
  }
 },
 "nbformat": 4,
 "nbformat_minor": 2
}
